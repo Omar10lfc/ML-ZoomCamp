{
 "cells": [
  {
   "cell_type": "markdown",
   "id": "3661d3fe",
   "metadata": {},
   "source": [
    "# Homework(1)_ML_Zoomcamp"
   ]
  },
  {
   "cell_type": "markdown",
   "id": "faa0f4ea",
   "metadata": {},
   "source": [
    "# 1-Pandas Version"
   ]
  },
  {
   "cell_type": "code",
   "execution_count": 1,
   "id": "5e4085e4",
   "metadata": {},
   "outputs": [
    {
     "data": {
      "text/plain": [
       "'2.3.1'"
      ]
     },
     "execution_count": 1,
     "metadata": {},
     "output_type": "execute_result"
    }
   ],
   "source": [
    "import pandas as pd\n",
    "pd.__version__"
   ]
  },
  {
   "cell_type": "markdown",
   "id": "0248605b",
   "metadata": {},
   "source": [
    "# Getting the data"
   ]
  },
  {
   "cell_type": "code",
   "execution_count": 2,
   "metadata": {},
   "outputs": [
    {
     "data": {
      "application/vnd.microsoft.datawrangler.viewer.v0+json": {
       "columns": [
        {
         "name": "index",
         "rawType": "int64",
         "type": "integer"
        },
        {
         "name": "engine_displacement",
         "rawType": "int64",
         "type": "integer"
        },
        {
         "name": "num_cylinders",
         "rawType": "float64",
         "type": "float"
        },
        {
         "name": "horsepower",
         "rawType": "float64",
         "type": "float"
        },
        {
         "name": "vehicle_weight",
         "rawType": "float64",
         "type": "float"
        },
        {
         "name": "acceleration",
         "rawType": "float64",
         "type": "float"
        },
        {
         "name": "model_year",
         "rawType": "int64",
         "type": "integer"
        },
        {
         "name": "origin",
         "rawType": "object",
         "type": "string"
        },
        {
         "name": "fuel_type",
         "rawType": "object",
         "type": "string"
        },
        {
         "name": "drivetrain",
         "rawType": "object",
         "type": "string"
        },
        {
         "name": "num_doors",
         "rawType": "float64",
         "type": "float"
        },
        {
         "name": "fuel_efficiency_mpg",
         "rawType": "float64",
         "type": "float"
        }
       ],
       "ref": "e114b813-76da-4b06-8e81-1a1a04c1e923",
       "rows": [
        [
         "0",
         "170",
         "3.0",
         "159.0",
         "3413.433758606219",
         "17.7",
         "2003",
         "Europe",
         "Gasoline",
         "All-wheel drive",
         "0.0",
         "13.231728906241411"
        ],
        [
         "1",
         "130",
         "5.0",
         "97.0",
         "3149.664934220036",
         "17.8",
         "2007",
         "USA",
         "Gasoline",
         "Front-wheel drive",
         "0.0",
         "13.688217435463793"
        ],
        [
         "2",
         "170",
         null,
         "78.0",
         "3079.03899736884",
         "15.1",
         "2018",
         "Europe",
         "Gasoline",
         "Front-wheel drive",
         "0.0",
         "14.246340998160866"
        ],
        [
         "3",
         "220",
         "4.0",
         null,
         "2542.392401828378",
         "20.2",
         "2009",
         "USA",
         "Diesel",
         "All-wheel drive",
         "2.0",
         "16.91273559598635"
        ],
        [
         "4",
         "210",
         "1.0",
         "140.0",
         "3460.870989989018",
         "14.4",
         "2009",
         "Europe",
         "Gasoline",
         "All-wheel drive",
         "2.0",
         "12.488369121964562"
        ]
       ],
       "shape": {
        "columns": 11,
        "rows": 5
       }
      },
      "text/html": [
       "<div>\n",
       "<style scoped>\n",
       "    .dataframe tbody tr th:only-of-type {\n",
       "        vertical-align: middle;\n",
       "    }\n",
       "\n",
       "    .dataframe tbody tr th {\n",
       "        vertical-align: top;\n",
       "    }\n",
       "\n",
       "    .dataframe thead th {\n",
       "        text-align: right;\n",
       "    }\n",
       "</style>\n",
       "<table border=\"1\" class=\"dataframe\">\n",
       "  <thead>\n",
       "    <tr style=\"text-align: right;\">\n",
       "      <th></th>\n",
       "      <th>engine_displacement</th>\n",
       "      <th>num_cylinders</th>\n",
       "      <th>horsepower</th>\n",
       "      <th>vehicle_weight</th>\n",
       "      <th>acceleration</th>\n",
       "      <th>model_year</th>\n",
       "      <th>origin</th>\n",
       "      <th>fuel_type</th>\n",
       "      <th>drivetrain</th>\n",
       "      <th>num_doors</th>\n",
       "      <th>fuel_efficiency_mpg</th>\n",
       "    </tr>\n",
       "  </thead>\n",
       "  <tbody>\n",
       "    <tr>\n",
       "      <th>0</th>\n",
       "      <td>170</td>\n",
       "      <td>3.0</td>\n",
       "      <td>159.0</td>\n",
       "      <td>3413.433759</td>\n",
       "      <td>17.7</td>\n",
       "      <td>2003</td>\n",
       "      <td>Europe</td>\n",
       "      <td>Gasoline</td>\n",
       "      <td>All-wheel drive</td>\n",
       "      <td>0.0</td>\n",
       "      <td>13.231729</td>\n",
       "    </tr>\n",
       "    <tr>\n",
       "      <th>1</th>\n",
       "      <td>130</td>\n",
       "      <td>5.0</td>\n",
       "      <td>97.0</td>\n",
       "      <td>3149.664934</td>\n",
       "      <td>17.8</td>\n",
       "      <td>2007</td>\n",
       "      <td>USA</td>\n",
       "      <td>Gasoline</td>\n",
       "      <td>Front-wheel drive</td>\n",
       "      <td>0.0</td>\n",
       "      <td>13.688217</td>\n",
       "    </tr>\n",
       "    <tr>\n",
       "      <th>2</th>\n",
       "      <td>170</td>\n",
       "      <td>NaN</td>\n",
       "      <td>78.0</td>\n",
       "      <td>3079.038997</td>\n",
       "      <td>15.1</td>\n",
       "      <td>2018</td>\n",
       "      <td>Europe</td>\n",
       "      <td>Gasoline</td>\n",
       "      <td>Front-wheel drive</td>\n",
       "      <td>0.0</td>\n",
       "      <td>14.246341</td>\n",
       "    </tr>\n",
       "    <tr>\n",
       "      <th>3</th>\n",
       "      <td>220</td>\n",
       "      <td>4.0</td>\n",
       "      <td>NaN</td>\n",
       "      <td>2542.392402</td>\n",
       "      <td>20.2</td>\n",
       "      <td>2009</td>\n",
       "      <td>USA</td>\n",
       "      <td>Diesel</td>\n",
       "      <td>All-wheel drive</td>\n",
       "      <td>2.0</td>\n",
       "      <td>16.912736</td>\n",
       "    </tr>\n",
       "    <tr>\n",
       "      <th>4</th>\n",
       "      <td>210</td>\n",
       "      <td>1.0</td>\n",
       "      <td>140.0</td>\n",
       "      <td>3460.870990</td>\n",
       "      <td>14.4</td>\n",
       "      <td>2009</td>\n",
       "      <td>Europe</td>\n",
       "      <td>Gasoline</td>\n",
       "      <td>All-wheel drive</td>\n",
       "      <td>2.0</td>\n",
       "      <td>12.488369</td>\n",
       "    </tr>\n",
       "  </tbody>\n",
       "</table>\n",
       "</div>"
      ],
      "text/plain": [
       "   engine_displacement  num_cylinders  horsepower  vehicle_weight  \\\n",
       "0                  170            3.0       159.0     3413.433759   \n",
       "1                  130            5.0        97.0     3149.664934   \n",
       "2                  170            NaN        78.0     3079.038997   \n",
       "3                  220            4.0         NaN     2542.392402   \n",
       "4                  210            1.0       140.0     3460.870990   \n",
       "\n",
       "   acceleration  model_year  origin fuel_type         drivetrain  num_doors  \\\n",
       "0          17.7        2003  Europe  Gasoline    All-wheel drive        0.0   \n",
       "1          17.8        2007     USA  Gasoline  Front-wheel drive        0.0   \n",
       "2          15.1        2018  Europe  Gasoline  Front-wheel drive        0.0   \n",
       "3          20.2        2009     USA    Diesel    All-wheel drive        2.0   \n",
       "4          14.4        2009  Europe  Gasoline    All-wheel drive        2.0   \n",
       "\n",
       "   fuel_efficiency_mpg  \n",
       "0            13.231729  \n",
       "1            13.688217  \n",
       "2            14.246341  \n",
       "3            16.912736  \n",
       "4            12.488369  "
      ]
     },
     "execution_count": 2,
     "metadata": {},
     "output_type": "execute_result"
    }
   ],
   "source": [
    "df =pd.read_csv('/workspaces/ML-ZoomCamp/car_fuel_efficiency.csv')\n",
    "df.head()"
   ]
  },
  {
   "cell_type": "markdown",
   "id": "9da0c8c8",
   "metadata": {},
   "source": [
    "# 2-Records count"
   ]
  },
  {
   "cell_type": "code",
   "execution_count": 3,
   "metadata": {},
   "outputs": [
    {
     "name": "stdout",
     "output_type": "stream",
     "text": [
      "<class 'pandas.core.frame.DataFrame'>\n",
      "RangeIndex: 9704 entries, 0 to 9703\n",
      "Data columns (total 11 columns):\n",
      " #   Column               Non-Null Count  Dtype  \n",
      "---  ------               --------------  -----  \n",
      " 0   engine_displacement  9704 non-null   int64  \n",
      " 1   num_cylinders        9222 non-null   float64\n",
      " 2   horsepower           8996 non-null   float64\n",
      " 3   vehicle_weight       9704 non-null   float64\n",
      " 4   acceleration         8774 non-null   float64\n",
      " 5   model_year           9704 non-null   int64  \n",
      " 6   origin               9704 non-null   object \n",
      " 7   fuel_type            9704 non-null   object \n",
      " 8   drivetrain           9704 non-null   object \n",
      " 9   num_doors            9202 non-null   float64\n",
      " 10  fuel_efficiency_mpg  9704 non-null   float64\n",
      "dtypes: float64(6), int64(2), object(3)\n",
      "memory usage: 834.1+ KB\n"
     ]
    }
   ],
   "source": [
    "df.info()"
   ]
  },
  {
   "cell_type": "markdown",
   "id": "1477ff42",
   "metadata": {},
   "source": [
    "Records count : 9704"
   ]
  },
  {
   "cell_type": "markdown",
   "id": "9dfc5227",
   "metadata": {},
   "source": [
    "# 3- Number of columns having null values"
   ]
  },
  {
   "cell_type": "code",
   "execution_count": 4,
   "metadata": {},
   "outputs": [
    {
     "data": {
      "application/vnd.microsoft.datawrangler.viewer.v0+json": {
       "columns": [
        {
         "name": "index",
         "rawType": "object",
         "type": "string"
        },
        {
         "name": "0",
         "rawType": "int64",
         "type": "integer"
        }
       ],
       "ref": "542e405f-6f91-408f-8f59-186c94724597",
       "rows": [
        [
         "engine_displacement",
         "0"
        ],
        [
         "num_cylinders",
         "482"
        ],
        [
         "horsepower",
         "708"
        ],
        [
         "vehicle_weight",
         "0"
        ],
        [
         "acceleration",
         "930"
        ],
        [
         "model_year",
         "0"
        ],
        [
         "origin",
         "0"
        ],
        [
         "fuel_type",
         "0"
        ],
        [
         "drivetrain",
         "0"
        ],
        [
         "num_doors",
         "502"
        ],
        [
         "fuel_efficiency_mpg",
         "0"
        ]
       ],
       "shape": {
        "columns": 1,
        "rows": 11
       }
      },
      "text/plain": [
       "engine_displacement      0\n",
       "num_cylinders          482\n",
       "horsepower             708\n",
       "vehicle_weight           0\n",
       "acceleration           930\n",
       "model_year               0\n",
       "origin                   0\n",
       "fuel_type                0\n",
       "drivetrain               0\n",
       "num_doors              502\n",
       "fuel_efficiency_mpg      0\n",
       "dtype: int64"
      ]
     },
     "execution_count": 4,
     "metadata": {},
     "output_type": "execute_result"
    }
   ],
   "source": [
    "df.isna().sum()"
   ]
  },
  {
   "cell_type": "markdown",
   "id": "3175eff2",
   "metadata": {},
   "source": [
    "There are four columns having missing values"
   ]
  },
  {
   "cell_type": "markdown",
   "id": "29ba19f3",
   "metadata": {},
   "source": [
    "# 4- Fuel Types"
   ]
  },
  {
   "cell_type": "code",
   "execution_count": 5,
   "metadata": {},
   "outputs": [
    {
     "data": {
      "application/vnd.microsoft.datawrangler.viewer.v0+json": {
       "columns": [
        {
         "name": "fuel_type",
         "rawType": "object",
         "type": "string"
        },
        {
         "name": "count",
         "rawType": "int64",
         "type": "integer"
        }
       ],
       "ref": "527296d1-8c85-47ab-a866-f800055f75de",
       "rows": [
        [
         "Gasoline",
         "4898"
        ],
        [
         "Diesel",
         "4806"
        ]
       ],
       "shape": {
        "columns": 1,
        "rows": 2
       }
      },
      "text/plain": [
       "fuel_type\n",
       "Gasoline    4898\n",
       "Diesel      4806\n",
       "Name: count, dtype: int64"
      ]
     },
     "execution_count": 5,
     "metadata": {},
     "output_type": "execute_result"
    }
   ],
   "source": [
    "df['fuel_type'].value_counts()"
   ]
  },
  {
   "cell_type": "markdown",
   "id": "4f628d1f",
   "metadata": {},
   "source": [
    "There are two fuel types in the dataset : Gasoline and Diessel"
   ]
  },
  {
   "cell_type": "markdown",
   "id": "795f09db",
   "metadata": {},
   "source": [
    "# 5-Maximum fuel efficiency of cars from Asia"
   ]
  },
  {
   "cell_type": "code",
   "execution_count": 6,
   "id": "1c4da06b",
   "metadata": {},
   "outputs": [
    {
     "data": {
      "application/vnd.microsoft.datawrangler.viewer.v0+json": {
       "columns": [
        {
         "name": "origin",
         "rawType": "object",
         "type": "string"
        },
        {
         "name": "count",
         "rawType": "int64",
         "type": "integer"
        }
       ],
       "ref": "a25fb8ca-02dc-4086-8019-61a5b1d0181e",
       "rows": [
        [
         "Europe",
         "3254"
        ],
        [
         "Asia",
         "3247"
        ],
        [
         "USA",
         "3203"
        ]
       ],
       "shape": {
        "columns": 1,
        "rows": 3
       }
      },
      "text/plain": [
       "origin\n",
       "Europe    3254\n",
       "Asia      3247\n",
       "USA       3203\n",
       "Name: count, dtype: int64"
      ]
     },
     "execution_count": 6,
     "metadata": {},
     "output_type": "execute_result"
    }
   ],
   "source": [
    "df['origin'].value_counts()"
   ]
  },
  {
   "cell_type": "code",
   "execution_count": 7,
   "metadata": {},
   "outputs": [
    {
     "name": "stdout",
     "output_type": "stream",
     "text": [
      "23.759122836520497\n"
     ]
    }
   ],
   "source": [
    "max_fuel_asia = df.loc[df['origin'] == 'Asia', 'fuel_efficiency_mpg'].max()\n",
    "print(max_fuel_asia)\n"
   ]
  },
  {
   "cell_type": "markdown",
   "id": "fbe89528",
   "metadata": {},
   "source": [
    "# 6- Median value of horsepower"
   ]
  },
  {
   "cell_type": "code",
   "execution_count": 8,
   "metadata": {},
   "outputs": [
    {
     "data": {
      "application/vnd.microsoft.datawrangler.viewer.v0+json": {
       "columns": [
        {
         "name": "index",
         "rawType": "object",
         "type": "string"
        },
        {
         "name": "horsepower",
         "rawType": "float64",
         "type": "float"
        }
       ],
       "ref": "cc328d59-1bba-4296-ae13-450e5f4e65ac",
       "rows": [
        [
         "count",
         "8996.0"
        ],
        [
         "mean",
         "149.65729212983547"
        ],
        [
         "std",
         "29.879555200339446"
        ],
        [
         "min",
         "37.0"
        ],
        [
         "25%",
         "130.0"
        ],
        [
         "50%",
         "149.0"
        ],
        [
         "75%",
         "170.0"
        ],
        [
         "max",
         "271.0"
        ]
       ],
       "shape": {
        "columns": 1,
        "rows": 8
       }
      },
      "text/plain": [
       "count    8996.000000\n",
       "mean      149.657292\n",
       "std        29.879555\n",
       "min        37.000000\n",
       "25%       130.000000\n",
       "50%       149.000000\n",
       "75%       170.000000\n",
       "max       271.000000\n",
       "Name: horsepower, dtype: float64"
      ]
     },
     "execution_count": 8,
     "metadata": {},
     "output_type": "execute_result"
    }
   ],
   "source": [
    "df['horsepower'].describe()"
   ]
  },
  {
   "cell_type": "markdown",
   "id": "13af85ce",
   "metadata": {},
   "source": [
    "median of horsepower = 149"
   ]
  },
  {
   "cell_type": "code",
   "execution_count": 9,
   "metadata": {},
   "outputs": [
    {
     "name": "stdout",
     "output_type": "stream",
     "text": [
      "152.0\n"
     ]
    }
   ],
   "source": [
    "frequent_horse_power = df['horsepower'].mode()[0]\n",
    "print(frequent_horse_power)"
   ]
  },
  {
   "cell_type": "code",
   "execution_count": 10,
   "metadata": {},
   "outputs": [],
   "source": [
    "complete_horse_power = df['horsepower'].fillna(frequent_horse_power, inplace=False)"
   ]
  },
  {
   "cell_type": "code",
   "execution_count": 11,
   "metadata": {},
   "outputs": [
    {
     "data": {
      "application/vnd.microsoft.datawrangler.viewer.v0+json": {
       "columns": [
        {
         "name": "index",
         "rawType": "object",
         "type": "string"
        },
        {
         "name": "horsepower",
         "rawType": "float64",
         "type": "float"
        }
       ],
       "ref": "fca03679-1566-4e26-80b8-35f3f388333b",
       "rows": [
        [
         "count",
         "9704.0"
        ],
        [
         "mean",
         "149.82821516900248"
        ],
        [
         "std",
         "28.77524815153318"
        ],
        [
         "min",
         "37.0"
        ],
        [
         "25%",
         "131.0"
        ],
        [
         "50%",
         "152.0"
        ],
        [
         "75%",
         "168.0"
        ],
        [
         "max",
         "271.0"
        ]
       ],
       "shape": {
        "columns": 1,
        "rows": 8
       }
      },
      "text/plain": [
       "count    9704.000000\n",
       "mean      149.828215\n",
       "std        28.775248\n",
       "min        37.000000\n",
       "25%       131.000000\n",
       "50%       152.000000\n",
       "75%       168.000000\n",
       "max       271.000000\n",
       "Name: horsepower, dtype: float64"
      ]
     },
     "execution_count": 11,
     "metadata": {},
     "output_type": "execute_result"
    }
   ],
   "source": [
    "complete_horse_power.describe()"
   ]
  },
  {
   "cell_type": "markdown",
   "id": "49c27ec4",
   "metadata": {},
   "source": [
    "new median of horsepower = 152  It increased after filling the missing values"
   ]
  },
  {
   "cell_type": "markdown",
   "id": "8883fb7a",
   "metadata": {},
   "source": [
    "# 7-Sum of weights calculation"
   ]
  },
  {
   "cell_type": "code",
   "execution_count": 12,
   "id": "2bc9ce51",
   "metadata": {},
   "outputs": [
    {
     "data": {
      "application/vnd.microsoft.datawrangler.viewer.v0+json": {
       "columns": [
        {
         "name": "index",
         "rawType": "int64",
         "type": "integer"
        },
        {
         "name": "engine_displacement",
         "rawType": "int64",
         "type": "integer"
        },
        {
         "name": "num_cylinders",
         "rawType": "float64",
         "type": "float"
        },
        {
         "name": "horsepower",
         "rawType": "float64",
         "type": "float"
        },
        {
         "name": "vehicle_weight",
         "rawType": "float64",
         "type": "float"
        },
        {
         "name": "acceleration",
         "rawType": "float64",
         "type": "float"
        },
        {
         "name": "model_year",
         "rawType": "int64",
         "type": "integer"
        },
        {
         "name": "origin",
         "rawType": "object",
         "type": "string"
        },
        {
         "name": "fuel_type",
         "rawType": "object",
         "type": "string"
        },
        {
         "name": "drivetrain",
         "rawType": "object",
         "type": "string"
        },
        {
         "name": "num_doors",
         "rawType": "float64",
         "type": "float"
        },
        {
         "name": "fuel_efficiency_mpg",
         "rawType": "float64",
         "type": "float"
        }
       ],
       "ref": "5183e8cc-59d0-469f-963e-02575fca5f30",
       "rows": [
        [
         "8",
         "250",
         "1.0",
         "174.0",
         "2714.219309645285",
         "10.3",
         "2016",
         "Asia",
         "Diesel",
         "Front-wheel drive",
         "-1.0",
         "16.823553726916543"
        ],
        [
         "12",
         "320",
         "5.0",
         "145.0",
         "2783.8689742437728",
         "15.1",
         "2010",
         "Asia",
         "Diesel",
         "All-wheel drive",
         "1.0",
         "16.17581958009284"
        ],
        [
         "14",
         "200",
         "6.0",
         "160.0",
         "3582.687367715132",
         "14.9",
         "2007",
         "Asia",
         "Diesel",
         "All-wheel drive",
         "0.0",
         "11.871091010445811"
        ],
        [
         "20",
         "150",
         "3.0",
         "197.0",
         "2231.8081416029345",
         "18.7",
         "2011",
         "Asia",
         "Gasoline",
         "Front-wheel drive",
         "1.0",
         "18.88908257097108"
        ],
        [
         "21",
         "160",
         "4.0",
         "133.0",
         "2659.431450757995",
         null,
         "2016",
         "Asia",
         "Gasoline",
         "Front-wheel drive",
         "-1.0",
         "16.077730214491176"
        ],
        [
         "34",
         "150",
         "2.0",
         "149.0",
         "2844.2275338857653",
         "17.3",
         "2014",
         "Asia",
         "Diesel",
         "Front-wheel drive",
         "0.0",
         "15.353788201522017"
        ],
        [
         "38",
         "190",
         "5.0",
         "158.0",
         "3761.9940381922206",
         null,
         "2019",
         "Asia",
         "Gasoline",
         "Front-wheel drive",
         "1.0",
         "11.645724047561528"
        ],
        [
         "43",
         "170",
         "4.0",
         "123.0",
         "2957.6811098887447",
         "14.4",
         "2012",
         "Asia",
         "Diesel",
         "All-wheel drive",
         "-1.0",
         "15.039796931634644"
        ],
        [
         "44",
         "240",
         "2.0",
         "142.0",
         "2544.516801769428",
         "12.9",
         "2016",
         "Asia",
         "Gasoline",
         "All-wheel drive",
         "0.0",
         "17.600327865900464"
        ],
        [
         "48",
         "190",
         "5.0",
         "202.0",
         "2531.185247040718",
         "16.2",
         "2016",
         "Asia",
         "Gasoline",
         "All-wheel drive",
         "0.0",
         "17.983505227568678"
        ],
        [
         "51",
         "270",
         "3.0",
         "152.0",
         "2730.9471044643847",
         null,
         "2015",
         "Asia",
         "Diesel",
         "All-wheel drive",
         "-1.0",
         "15.82098165489468"
        ],
        [
         "57",
         "210",
         "5.0",
         "128.0",
         "3654.1395563912342",
         "17.3",
         "2015",
         "Asia",
         "Gasoline",
         "Front-wheel drive",
         null,
         "11.550323928127572"
        ],
        [
         "60",
         "240",
         "5.0",
         null,
         "2677.52170988898",
         "13.2",
         "2003",
         "Asia",
         "Diesel",
         "Front-wheel drive",
         "0.0",
         "16.31743149857548"
        ],
        [
         "74",
         "160",
         "6.0",
         "196.0",
         "2858.715432560616",
         "16.8",
         "2006",
         "Asia",
         "Gasoline",
         "All-wheel drive",
         "0.0",
         "16.138145622702815"
        ],
        [
         "76",
         "190",
         "4.0",
         "133.0",
         "3925.506911760992",
         "17.1",
         "2000",
         "Asia",
         "Gasoline",
         "Front-wheel drive",
         "0.0",
         "10.236175734106144"
        ],
        [
         "79",
         "210",
         "3.0",
         "152.0",
         "3429.169392019084",
         "16.8",
         "2012",
         "Asia",
         "Gasoline",
         "Front-wheel drive",
         "1.0",
         "12.919793266773633"
        ],
        [
         "87",
         "240",
         "0.0",
         "179.0",
         "2928.390984041444",
         "16.2",
         "2010",
         "Asia",
         "Diesel",
         "Front-wheel drive",
         "1.0",
         "15.1925413931655"
        ],
        [
         "88",
         "240",
         "7.0",
         "166.0",
         "3925.5586878590752",
         "9.8",
         "2010",
         "Asia",
         "Gasoline",
         "Front-wheel drive",
         "0.0",
         "11.781953644467873"
        ],
        [
         "89",
         "180",
         "4.0",
         "101.0",
         "2065.5431253394445",
         "17.7",
         "2005",
         "Asia",
         "Gasoline",
         "All-wheel drive",
         "0.0",
         "19.106654789919126"
        ],
        [
         "102",
         "250",
         "6.0",
         "177.0",
         "2705.632696518827",
         "10.1",
         "2003",
         "Asia",
         "Gasoline",
         "All-wheel drive",
         "2.0",
         "17.36358518579527"
        ],
        [
         "104",
         "140",
         "1.0",
         "166.0",
         "3238.177967641373",
         "14.9",
         "2011",
         "Asia",
         "Gasoline",
         "All-wheel drive",
         "1.0",
         "13.784027898457635"
        ],
        [
         "105",
         "310",
         null,
         "103.0",
         "3514.690129960512",
         "15.7",
         "2011",
         "Asia",
         "Gasoline",
         "Front-wheel drive",
         "0.0",
         "11.745027917789637"
        ],
        [
         "108",
         "290",
         "4.0",
         "184.0",
         "3090.89413681191",
         "16.6",
         "2002",
         "Asia",
         "Gasoline",
         "All-wheel drive",
         "1.0",
         "14.98594049869758"
        ],
        [
         "111",
         "240",
         "6.0",
         "151.0",
         "3444.2532181983206",
         "12.1",
         "2008",
         "Asia",
         "Diesel",
         "Front-wheel drive",
         null,
         "13.190997221220323"
        ],
        [
         "113",
         "200",
         "2.0",
         "163.0",
         "3146.743143565958",
         "13.0",
         "2005",
         "Asia",
         "Gasoline",
         "All-wheel drive",
         "0.0",
         "14.395615578556114"
        ],
        [
         "115",
         "210",
         "3.0",
         "162.0",
         "3642.4980770826874",
         "15.6",
         "2001",
         "Asia",
         "Gasoline",
         "All-wheel drive",
         "0.0",
         "10.963506046167412"
        ],
        [
         "117",
         "280",
         "1.0",
         "104.0",
         "3650.722390412526",
         "13.3",
         "2010",
         "Asia",
         "Gasoline",
         "Front-wheel drive",
         "1.0",
         "11.342614871840736"
        ],
        [
         "119",
         "230",
         "2.0",
         "137.0",
         "2859.270425474493",
         "15.4",
         "2017",
         "Asia",
         "Gasoline",
         "All-wheel drive",
         "-1.0",
         "15.534575330284182"
        ],
        [
         "123",
         "270",
         "6.0",
         "135.0",
         "2435.3611644468947",
         "15.0",
         "2006",
         "Asia",
         "Gasoline",
         "Front-wheel drive",
         "0.0",
         "17.958386086087742"
        ],
        [
         "125",
         "200",
         "3.0",
         "143.0",
         "2950.822121334588",
         "17.1",
         "2013",
         "Asia",
         "Diesel",
         "Front-wheel drive",
         "-1.0",
         "15.331214658436403"
        ],
        [
         "130",
         "180",
         "5.0",
         "164.0",
         "3011.935745333787",
         "13.5",
         "2018",
         "Asia",
         "Gasoline",
         "All-wheel drive",
         "0.0",
         "15.519705640049803"
        ],
        [
         "131",
         "200",
         "4.0",
         "123.0",
         "2842.992310766458",
         "15.7",
         "2010",
         "Asia",
         "Gasoline",
         "Front-wheel drive",
         "3.0",
         "15.172158285749552"
        ],
        [
         "132",
         "110",
         "4.0",
         "149.0",
         "2686.2920420207847",
         "13.9",
         "2011",
         "Asia",
         "Diesel",
         "All-wheel drive",
         "0.0",
         "16.54995387725934"
        ],
        [
         "134",
         "90",
         "1.0",
         "148.0",
         "2528.3479461904435",
         "11.9",
         "2002",
         "Asia",
         "Diesel",
         "Front-wheel drive",
         "1.0",
         "17.540475740681295"
        ],
        [
         "135",
         "170",
         "4.0",
         "153.0",
         "3678.720747386177",
         "15.8",
         "2022",
         "Asia",
         "Gasoline",
         "Front-wheel drive",
         "-1.0",
         "11.353188504588235"
        ],
        [
         "144",
         "260",
         "2.0",
         "200.0",
         "2216.540197957567",
         "15.0",
         "2016",
         "Asia",
         "Gasoline",
         "All-wheel drive",
         "1.0",
         "18.841960135846293"
        ],
        [
         "151",
         "190",
         "2.0",
         "179.0",
         "3953.311649204393",
         "15.6",
         "2003",
         "Asia",
         "Diesel",
         "Front-wheel drive",
         "0.0",
         "10.188722574984988"
        ],
        [
         "153",
         "310",
         "0.0",
         "159.0",
         "2376.284548972947",
         null,
         "2005",
         "Asia",
         "Diesel",
         "All-wheel drive",
         "-1.0",
         "17.863914553778507"
        ],
        [
         "154",
         "140",
         "4.0",
         "172.0",
         "3966.299770850817",
         "14.3",
         "2014",
         "Asia",
         "Gasoline",
         "All-wheel drive",
         "-1.0",
         "9.984908640845251"
        ],
        [
         "156",
         "220",
         "1.0",
         "139.0",
         "2577.120411484481",
         "15.1",
         "2007",
         "Asia",
         "Diesel",
         "Front-wheel drive",
         "0.0",
         "17.390924993136817"
        ],
        [
         "160",
         "140",
         "8.0",
         "130.0",
         "2403.181129982779",
         "15.0",
         "2020",
         "Asia",
         "Diesel",
         "Front-wheel drive",
         "-1.0",
         "17.798755253041886"
        ],
        [
         "161",
         "220",
         "6.0",
         "170.0",
         "2374.4828658875795",
         "16.8",
         "2015",
         "Asia",
         "Diesel",
         "Front-wheel drive",
         "1.0",
         "18.357378387890183"
        ],
        [
         "166",
         "200",
         "5.0",
         "150.0",
         "3965.339213908783",
         "12.0",
         "2018",
         "Asia",
         "Gasoline",
         "All-wheel drive",
         "0.0",
         "10.465232689090865"
        ],
        [
         "167",
         "150",
         "4.0",
         "192.0",
         "2824.478265006889",
         "13.8",
         "2002",
         "Asia",
         "Diesel",
         "All-wheel drive",
         "2.0",
         "16.696031085278673"
        ],
        [
         "171",
         "200",
         "8.0",
         "217.0",
         "2156.3676639373502",
         "16.7",
         "2012",
         "Asia",
         "Gasoline",
         "Front-wheel drive",
         "1.0",
         "19.4424734803092"
        ],
        [
         "172",
         "200",
         "2.0",
         "147.0",
         "4043.595771631228",
         "16.2",
         "2014",
         "Asia",
         "Gasoline",
         "All-wheel drive",
         "1.0",
         "9.957139470311276"
        ],
        [
         "173",
         "230",
         "3.0",
         "172.0",
         "2697.423182331291",
         "16.1",
         "2011",
         "Asia",
         "Diesel",
         "All-wheel drive",
         "2.0",
         "16.75466934147011"
        ],
        [
         "176",
         "240",
         null,
         "120.0",
         "3450.59314322959",
         "14.3",
         "2023",
         "Asia",
         "Diesel",
         "All-wheel drive",
         "1.0",
         "12.895396757676426"
        ],
        [
         "184",
         "140",
         "9.0",
         "83.0",
         "3007.3271482865844",
         "16.6",
         "2022",
         "Asia",
         "Diesel",
         "All-wheel drive",
         "1.0",
         "13.991309283118838"
        ],
        [
         "185",
         "210",
         "6.0",
         "101.0",
         "2725.919222680632",
         "11.6",
         "2015",
         "Asia",
         "Diesel",
         "Front-wheel drive",
         "0.0",
         "16.003261680782987"
        ]
       ],
       "shape": {
        "columns": 11,
        "rows": 3247
       }
      },
      "text/html": [
       "<div>\n",
       "<style scoped>\n",
       "    .dataframe tbody tr th:only-of-type {\n",
       "        vertical-align: middle;\n",
       "    }\n",
       "\n",
       "    .dataframe tbody tr th {\n",
       "        vertical-align: top;\n",
       "    }\n",
       "\n",
       "    .dataframe thead th {\n",
       "        text-align: right;\n",
       "    }\n",
       "</style>\n",
       "<table border=\"1\" class=\"dataframe\">\n",
       "  <thead>\n",
       "    <tr style=\"text-align: right;\">\n",
       "      <th></th>\n",
       "      <th>engine_displacement</th>\n",
       "      <th>num_cylinders</th>\n",
       "      <th>horsepower</th>\n",
       "      <th>vehicle_weight</th>\n",
       "      <th>acceleration</th>\n",
       "      <th>model_year</th>\n",
       "      <th>origin</th>\n",
       "      <th>fuel_type</th>\n",
       "      <th>drivetrain</th>\n",
       "      <th>num_doors</th>\n",
       "      <th>fuel_efficiency_mpg</th>\n",
       "    </tr>\n",
       "  </thead>\n",
       "  <tbody>\n",
       "    <tr>\n",
       "      <th>8</th>\n",
       "      <td>250</td>\n",
       "      <td>1.0</td>\n",
       "      <td>174.0</td>\n",
       "      <td>2714.219310</td>\n",
       "      <td>10.3</td>\n",
       "      <td>2016</td>\n",
       "      <td>Asia</td>\n",
       "      <td>Diesel</td>\n",
       "      <td>Front-wheel drive</td>\n",
       "      <td>-1.0</td>\n",
       "      <td>16.823554</td>\n",
       "    </tr>\n",
       "    <tr>\n",
       "      <th>12</th>\n",
       "      <td>320</td>\n",
       "      <td>5.0</td>\n",
       "      <td>145.0</td>\n",
       "      <td>2783.868974</td>\n",
       "      <td>15.1</td>\n",
       "      <td>2010</td>\n",
       "      <td>Asia</td>\n",
       "      <td>Diesel</td>\n",
       "      <td>All-wheel drive</td>\n",
       "      <td>1.0</td>\n",
       "      <td>16.175820</td>\n",
       "    </tr>\n",
       "    <tr>\n",
       "      <th>14</th>\n",
       "      <td>200</td>\n",
       "      <td>6.0</td>\n",
       "      <td>160.0</td>\n",
       "      <td>3582.687368</td>\n",
       "      <td>14.9</td>\n",
       "      <td>2007</td>\n",
       "      <td>Asia</td>\n",
       "      <td>Diesel</td>\n",
       "      <td>All-wheel drive</td>\n",
       "      <td>0.0</td>\n",
       "      <td>11.871091</td>\n",
       "    </tr>\n",
       "    <tr>\n",
       "      <th>20</th>\n",
       "      <td>150</td>\n",
       "      <td>3.0</td>\n",
       "      <td>197.0</td>\n",
       "      <td>2231.808142</td>\n",
       "      <td>18.7</td>\n",
       "      <td>2011</td>\n",
       "      <td>Asia</td>\n",
       "      <td>Gasoline</td>\n",
       "      <td>Front-wheel drive</td>\n",
       "      <td>1.0</td>\n",
       "      <td>18.889083</td>\n",
       "    </tr>\n",
       "    <tr>\n",
       "      <th>21</th>\n",
       "      <td>160</td>\n",
       "      <td>4.0</td>\n",
       "      <td>133.0</td>\n",
       "      <td>2659.431451</td>\n",
       "      <td>NaN</td>\n",
       "      <td>2016</td>\n",
       "      <td>Asia</td>\n",
       "      <td>Gasoline</td>\n",
       "      <td>Front-wheel drive</td>\n",
       "      <td>-1.0</td>\n",
       "      <td>16.077730</td>\n",
       "    </tr>\n",
       "    <tr>\n",
       "      <th>...</th>\n",
       "      <td>...</td>\n",
       "      <td>...</td>\n",
       "      <td>...</td>\n",
       "      <td>...</td>\n",
       "      <td>...</td>\n",
       "      <td>...</td>\n",
       "      <td>...</td>\n",
       "      <td>...</td>\n",
       "      <td>...</td>\n",
       "      <td>...</td>\n",
       "      <td>...</td>\n",
       "    </tr>\n",
       "    <tr>\n",
       "      <th>9688</th>\n",
       "      <td>260</td>\n",
       "      <td>4.0</td>\n",
       "      <td>NaN</td>\n",
       "      <td>3948.404625</td>\n",
       "      <td>15.5</td>\n",
       "      <td>2018</td>\n",
       "      <td>Asia</td>\n",
       "      <td>Diesel</td>\n",
       "      <td>All-wheel drive</td>\n",
       "      <td>-1.0</td>\n",
       "      <td>11.054830</td>\n",
       "    </tr>\n",
       "    <tr>\n",
       "      <th>9692</th>\n",
       "      <td>180</td>\n",
       "      <td>3.0</td>\n",
       "      <td>188.0</td>\n",
       "      <td>3680.341381</td>\n",
       "      <td>18.0</td>\n",
       "      <td>2016</td>\n",
       "      <td>Asia</td>\n",
       "      <td>Gasoline</td>\n",
       "      <td>Front-wheel drive</td>\n",
       "      <td>1.0</td>\n",
       "      <td>11.711653</td>\n",
       "    </tr>\n",
       "    <tr>\n",
       "      <th>9693</th>\n",
       "      <td>280</td>\n",
       "      <td>2.0</td>\n",
       "      <td>148.0</td>\n",
       "      <td>2545.070139</td>\n",
       "      <td>15.6</td>\n",
       "      <td>2012</td>\n",
       "      <td>Asia</td>\n",
       "      <td>Diesel</td>\n",
       "      <td>All-wheel drive</td>\n",
       "      <td>0.0</td>\n",
       "      <td>17.202782</td>\n",
       "    </tr>\n",
       "    <tr>\n",
       "      <th>9698</th>\n",
       "      <td>180</td>\n",
       "      <td>1.0</td>\n",
       "      <td>131.0</td>\n",
       "      <td>3107.427820</td>\n",
       "      <td>13.2</td>\n",
       "      <td>2005</td>\n",
       "      <td>Asia</td>\n",
       "      <td>Gasoline</td>\n",
       "      <td>Front-wheel drive</td>\n",
       "      <td>-2.0</td>\n",
       "      <td>13.933716</td>\n",
       "    </tr>\n",
       "    <tr>\n",
       "      <th>9703</th>\n",
       "      <td>270</td>\n",
       "      <td>3.0</td>\n",
       "      <td>140.0</td>\n",
       "      <td>2908.043477</td>\n",
       "      <td>14.7</td>\n",
       "      <td>2005</td>\n",
       "      <td>Asia</td>\n",
       "      <td>Diesel</td>\n",
       "      <td>All-wheel drive</td>\n",
       "      <td>-1.0</td>\n",
       "      <td>14.884467</td>\n",
       "    </tr>\n",
       "  </tbody>\n",
       "</table>\n",
       "<p>3247 rows × 11 columns</p>\n",
       "</div>"
      ],
      "text/plain": [
       "      engine_displacement  num_cylinders  horsepower  vehicle_weight  \\\n",
       "8                     250            1.0       174.0     2714.219310   \n",
       "12                    320            5.0       145.0     2783.868974   \n",
       "14                    200            6.0       160.0     3582.687368   \n",
       "20                    150            3.0       197.0     2231.808142   \n",
       "21                    160            4.0       133.0     2659.431451   \n",
       "...                   ...            ...         ...             ...   \n",
       "9688                  260            4.0         NaN     3948.404625   \n",
       "9692                  180            3.0       188.0     3680.341381   \n",
       "9693                  280            2.0       148.0     2545.070139   \n",
       "9698                  180            1.0       131.0     3107.427820   \n",
       "9703                  270            3.0       140.0     2908.043477   \n",
       "\n",
       "      acceleration  model_year origin fuel_type         drivetrain  num_doors  \\\n",
       "8             10.3        2016   Asia    Diesel  Front-wheel drive       -1.0   \n",
       "12            15.1        2010   Asia    Diesel    All-wheel drive        1.0   \n",
       "14            14.9        2007   Asia    Diesel    All-wheel drive        0.0   \n",
       "20            18.7        2011   Asia  Gasoline  Front-wheel drive        1.0   \n",
       "21             NaN        2016   Asia  Gasoline  Front-wheel drive       -1.0   \n",
       "...            ...         ...    ...       ...                ...        ...   \n",
       "9688          15.5        2018   Asia    Diesel    All-wheel drive       -1.0   \n",
       "9692          18.0        2016   Asia  Gasoline  Front-wheel drive        1.0   \n",
       "9693          15.6        2012   Asia    Diesel    All-wheel drive        0.0   \n",
       "9698          13.2        2005   Asia  Gasoline  Front-wheel drive       -2.0   \n",
       "9703          14.7        2005   Asia    Diesel    All-wheel drive       -1.0   \n",
       "\n",
       "      fuel_efficiency_mpg  \n",
       "8               16.823554  \n",
       "12              16.175820  \n",
       "14              11.871091  \n",
       "20              18.889083  \n",
       "21              16.077730  \n",
       "...                   ...  \n",
       "9688            11.054830  \n",
       "9692            11.711653  \n",
       "9693            17.202782  \n",
       "9698            13.933716  \n",
       "9703            14.884467  \n",
       "\n",
       "[3247 rows x 11 columns]"
      ]
     },
     "execution_count": 12,
     "metadata": {},
     "output_type": "execute_result"
    }
   ],
   "source": [
    "car_asia_df = df[df['origin'] == 'Asia']\n",
    "car_asia_df"
   ]
  },
  {
   "cell_type": "code",
   "execution_count": 13,
   "id": "86ad35f5",
   "metadata": {},
   "outputs": [
    {
     "data": {
      "application/vnd.microsoft.datawrangler.viewer.v0+json": {
       "columns": [
        {
         "name": "index",
         "rawType": "int64",
         "type": "integer"
        },
        {
         "name": "vehicle_weight",
         "rawType": "float64",
         "type": "float"
        },
        {
         "name": "model_year",
         "rawType": "int64",
         "type": "integer"
        }
       ],
       "ref": "67555976-d646-4d16-94e2-b1be522bf42f",
       "rows": [
        [
         "8",
         "2714.219309645285",
         "2016"
        ],
        [
         "12",
         "2783.8689742437728",
         "2010"
        ],
        [
         "14",
         "3582.687367715132",
         "2007"
        ],
        [
         "20",
         "2231.8081416029345",
         "2011"
        ],
        [
         "21",
         "2659.431450757995",
         "2016"
        ],
        [
         "34",
         "2844.2275338857653",
         "2014"
        ],
        [
         "38",
         "3761.9940381922206",
         "2019"
        ]
       ],
       "shape": {
        "columns": 2,
        "rows": 7
       }
      },
      "text/html": [
       "<div>\n",
       "<style scoped>\n",
       "    .dataframe tbody tr th:only-of-type {\n",
       "        vertical-align: middle;\n",
       "    }\n",
       "\n",
       "    .dataframe tbody tr th {\n",
       "        vertical-align: top;\n",
       "    }\n",
       "\n",
       "    .dataframe thead th {\n",
       "        text-align: right;\n",
       "    }\n",
       "</style>\n",
       "<table border=\"1\" class=\"dataframe\">\n",
       "  <thead>\n",
       "    <tr style=\"text-align: right;\">\n",
       "      <th></th>\n",
       "      <th>vehicle_weight</th>\n",
       "      <th>model_year</th>\n",
       "    </tr>\n",
       "  </thead>\n",
       "  <tbody>\n",
       "    <tr>\n",
       "      <th>8</th>\n",
       "      <td>2714.219310</td>\n",
       "      <td>2016</td>\n",
       "    </tr>\n",
       "    <tr>\n",
       "      <th>12</th>\n",
       "      <td>2783.868974</td>\n",
       "      <td>2010</td>\n",
       "    </tr>\n",
       "    <tr>\n",
       "      <th>14</th>\n",
       "      <td>3582.687368</td>\n",
       "      <td>2007</td>\n",
       "    </tr>\n",
       "    <tr>\n",
       "      <th>20</th>\n",
       "      <td>2231.808142</td>\n",
       "      <td>2011</td>\n",
       "    </tr>\n",
       "    <tr>\n",
       "      <th>21</th>\n",
       "      <td>2659.431451</td>\n",
       "      <td>2016</td>\n",
       "    </tr>\n",
       "    <tr>\n",
       "      <th>34</th>\n",
       "      <td>2844.227534</td>\n",
       "      <td>2014</td>\n",
       "    </tr>\n",
       "    <tr>\n",
       "      <th>38</th>\n",
       "      <td>3761.994038</td>\n",
       "      <td>2019</td>\n",
       "    </tr>\n",
       "  </tbody>\n",
       "</table>\n",
       "</div>"
      ],
      "text/plain": [
       "    vehicle_weight  model_year\n",
       "8      2714.219310        2016\n",
       "12     2783.868974        2010\n",
       "14     3582.687368        2007\n",
       "20     2231.808142        2011\n",
       "21     2659.431451        2016\n",
       "34     2844.227534        2014\n",
       "38     3761.994038        2019"
      ]
     },
     "execution_count": 13,
     "metadata": {},
     "output_type": "execute_result"
    }
   ],
   "source": [
    "# select only columns vehicle_weight and model_year\n",
    "car_asia_df[['vehicle_weight', 'model_year']][0:7]"
   ]
  },
  {
   "cell_type": "code",
   "execution_count": 14,
   "id": "f694c681",
   "metadata": {},
   "outputs": [
    {
     "name": "stdout",
     "output_type": "stream",
     "text": [
      "[[2714.21930965 2016.        ]\n",
      " [2783.86897424 2010.        ]\n",
      " [3582.68736772 2007.        ]\n",
      " [2231.8081416  2011.        ]\n",
      " [2659.43145076 2016.        ]\n",
      " [2844.22753389 2014.        ]\n",
      " [3761.99403819 2019.        ]]\n"
     ]
    }
   ],
   "source": [
    "X = car_asia_df[['vehicle_weight', 'model_year']][0:7].values\n",
    "print(X)"
   ]
  },
  {
   "cell_type": "code",
   "execution_count": 15,
   "id": "933738a4",
   "metadata": {},
   "outputs": [
    {
     "name": "stdout",
     "output_type": "stream",
     "text": [
      "[[2714.21930965 2783.86897424 3582.68736772 2231.8081416  2659.43145076\n",
      "  2844.22753389 3761.99403819]\n",
      " [2016.         2010.         2007.         2011.         2016.\n",
      "  2014.         2019.        ]]\n"
     ]
    }
   ],
   "source": [
    "X_transpose = X.T\n",
    "print(X_transpose)"
   ]
  },
  {
   "cell_type": "code",
   "execution_count": 16,
   "metadata": {},
   "outputs": [
    {
     "name": "stdout",
     "output_type": "stream",
     "text": [
      "[[62248334.33150762 41431216.5073268 ]\n",
      " [41431216.5073268  28373339.        ]]\n"
     ]
    }
   ],
   "source": [
    "XTX = X_transpose.dot(X)\n",
    "print(XTX)"
   ]
  },
  {
   "cell_type": "code",
   "execution_count": 17,
   "id": "a9882f6c",
   "metadata": {},
   "outputs": [
    {
     "name": "stdout",
     "output_type": "stream",
     "text": [
      "[[ 5.71497081e-07 -8.34509443e-07]\n",
      " [-8.34509443e-07  1.25380877e-06]]\n"
     ]
    }
   ],
   "source": [
    "import numpy as np\n",
    "XTX_inv = np.linalg.inv(XTX)\n",
    "print(XTX_inv)\n"
   ]
  },
  {
   "cell_type": "code",
   "execution_count": 18,
   "id": "b0956066",
   "metadata": {},
   "outputs": [],
   "source": [
    "y = [1100, 1300, 800, 900, 1000, 1100, 1200]"
   ]
  },
  {
   "cell_type": "code",
   "execution_count": 19,
   "id": "bb25e908",
   "metadata": {},
   "outputs": [
    {
     "name": "stdout",
     "output_type": "stream",
     "text": [
      "[0.01386421 0.5049067 ]\n"
     ]
    }
   ],
   "source": [
    "w= XTX_inv.dot(X_transpose).dot(y)\n",
    "print(w)"
   ]
  },
  {
   "cell_type": "code",
   "execution_count": 20,
   "id": "44dd8f29",
   "metadata": {},
   "outputs": [
    {
     "data": {
      "text/plain": [
       "np.float64(0.5187709081074016)"
      ]
     },
     "execution_count": 20,
     "metadata": {},
     "output_type": "execute_result"
    }
   ],
   "source": [
    "w.sum()"
   ]
  },
  {
   "cell_type": "markdown",
   "id": "8aca8da3",
   "metadata": {},
   "source": [
    "sum of Weights = 0.51"
   ]
  },
  {
   "cell_type": "code",
   "execution_count": null,
   "metadata": {},
   "outputs": [],
   "source": []
  },
  {
   "cell_type": "code",
   "execution_count": null,
   "id": "b0a52d9a",
   "metadata": {},
   "outputs": [],
   "source": []
  },
  {
   "cell_type": "code",
   "execution_count": null,
   "metadata": {},
   "outputs": [],
   "source": []
  },
  {
   "cell_type": "code",
   "execution_count": null,
   "id": "50bc5980",
   "metadata": {},
   "outputs": [],
   "source": []
  },
  {
   "cell_type": "code",
   "execution_count": null,
   "id": "d5e55021",
   "metadata": {},
   "outputs": [],
   "source": []
  }
 ],
 "metadata": {
  "kernelspec": {
   "display_name": "ml-zoomcamp",
   "language": "python",
   "name": "python3"
  },
  "language_info": {
   "codemirror_mode": {
    "name": "ipython",
    "version": 3
   },
   "file_extension": ".py",
   "mimetype": "text/x-python",
   "name": "python",
   "nbconvert_exporter": "python",
   "pygments_lexer": "ipython3",
   "version": "3.12.11"
  }
 },
 "nbformat": 4,
 "nbformat_minor": 5
}
